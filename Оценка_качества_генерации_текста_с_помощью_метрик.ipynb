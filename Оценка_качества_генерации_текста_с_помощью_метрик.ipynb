{
  "cells": [
    {
      "cell_type": "markdown",
      "metadata": {
        "id": "JptHHWMY5iFx"
      },
      "source": [
        "Код полностью воиспроизводим, нужно подставить свой токен."
      ]
    },
    {
      "cell_type": "markdown",
      "metadata": {
        "id": "MYcrREQ5k4nk"
      },
      "source": [
        "Почему этот пайплайн подходит для SberQuAD?\n",
        "SberQuAD — русскоязычный RDQA-like датасет, похожий по структуре на англоязычный SQuAD, значит подход с моделями и методами извлечения ответа подходит очень хорошо.\n",
        "\n",
        "Метрики Exact Match и F1 — стандартные и широко применяемые во всех QA задачах.\n",
        "\n",
        "Структура — воспроизводимая и позволяет понять работу модели и качество на реальных данных."
      ]
    },
    {
      "cell_type": "markdown",
      "metadata": {
        "id": "7zGzhCoLk5Vp"
      },
      "source": [
        "1. Загрузка предобученной модели и токенизатора\n",
        "Используем модели\n",
        "cointegrated/rut5-base-multitask\n",
        "\n",
        "sberbank-ai/rugpt3small_based_on_gpt2\"\n",
        "\n",
        "ai-forever/ruBert-large\n",
        "\n",
        "Токенизатор разбивает текст на понятные модели слова/токены.\n",
        "\n",
        "\n",
        "2. Подготовка данных\n",
        "Для QA модель принимает сразу пару: вопрос + контекст.\n",
        "\n",
        "Контекст — фрагмент текста, где нужно найти ответ, вопрос — то, на что нужно ответить.\n",
        "\n",
        "Например, берем первый элемент тестового датасета для примера.\n",
        "\n",
        "3. Токенизация и предсказание\n",
        "Токенизатор преобразует текст в числовые тензоры для модели.\n",
        "\n",
        "Переменная inputs содержит уже числовой формат с вопросом и контекстом.\n",
        "\n",
        "Модель выдаёт два вектора логитов — для начала и конца ответа.\n",
        "\n",
        "Берём позиции с максимальными значениями и преобразуем обратно в текст.\n",
        "\n",
        "4. Метрики качества\n",
        "Exact Match (EM) — насколько ответ модели совпадает с эталоном полностью.\n",
        "\n",
        "F1-score — гармоническое среднее точности и полноты (если часть слов совпала).\n",
        "\n",
        "Используя библиотеку evaluate можно считать эти метрики легко и корректно.\n",
        "\n",
        "5. Оценка всей выборки\n",
        "Запускаем цикл по тестовым примерам.\n",
        "\n",
        "Собираем все ответы и правильные ответы.\n",
        "\n",
        "Считаем средние метрики EM и F1, чтобы понять качество модели в целом.\n",
        "\n",
        "6. Визуализация\n",
        "Можно посмотреть распределение длин ответов, ошибки и т.п.\n",
        "\n",
        "Для анализа удобно использовать matplotlib или seaborn."
      ]
    },
    {
      "cell_type": "markdown",
      "metadata": {
        "id": "9NTr2HeOk5pn"
      },
      "source": []
    },
    {
      "cell_type": "markdown",
      "metadata": {
        "id": "F3xRXIoPIhBm"
      },
      "source": [
        "- Примечание:\n",
        "Что такое метрики?\n",
        "\n",
        " \"Трек A: **Question Answering (QA)** — оценка точности ответов на вопросы\".\n",
        "\n",
        "У нас есть список вопросов и правильные ответы на них. Наша задача — проверить, насколько хорошо разные \"умные программы\" (языковые модели) отвечают на эти вопросы.\n",
        "\n",
        "1.  **Мы готовим \"контрольную работу\":**\n",
        "    *   Собираете 50-100 вопросов (например: \"Какая столица Франции?\", \"Кто написал 'Войну и мир'?\").\n",
        "    *   Для каждого вопроса вы записываете *правильный* ответ. Это как ответы в конце учебника.\n",
        "\n",
        "2.  **Мы даём \"контрольную\" разным \"ученикам\" (языковым моделям):**\n",
        "    *   Берёте, например, \"Ученика А\" и просите его ответить на все ваши вопросы.\n",
        "    *   Берёте \"Ученика Б\" и просите его сделать то же самое.\n",
        "\n",
        "3.  **Мы проверяем ответы \"учеников\" с помощью специальных \"линеек\":**\n",
        "    *   **Линейка \"Точное совпадение\" (Exact Match):** Смотрите, совпадает ли ответ ученика с правильным ответом *слово в слово*. Если да, ставите 1 балл, если нет — 0.\n",
        "    *   **Линейка \"Насколько близко по смыслу\" (F1-score):** Смотрите, сколько важных слов из правильного ответа есть в ответе ученика, и сколько лишних слов он не добавил. Эта линейка более гибкая.\n",
        "    *   **Линейка \"Похожесть по смыслу\" (Semantic Similarity):** Эта линейка проверяет, не просто слова, а *общий смысл* ответа. Даже если слова разные, но смысл тот же, она это заметит.\n",
        "    *   **Линейка \"Насколько похожи части предложений\" (BLEU):** Это как если бы мы смотрели, сколько маленьких кусочков (фраз) из правильного ответа есть в ответе ученика.\n",
        "\n",
        "4.  **Мы смотрим на оценки и делаем выводы:**\n",
        "    *   После того как мы измерили ответы всех учеников всеми линейками, у нас будут цифры.\n",
        "    *   Мы посмотрим: \"Ученик А\" набрал 80% по \"Точному совпадению\", а \"Ученик Б\" — 60%. Значит, \"Ученик А\" точнее.\n",
        "    *   Но по \"Похожести по смыслу\" они оба набрали 95%. Это значит, что хоть \"Ученик Б\" и не всегда точен в словах, его ответы всё равно имеют правильный смысл.\n",
        "    *   На основе этих цифр мы решаем, какой \"ученик\" (языковая модель) лучше подходит для ваших задач. Например, если нам нужна абсолютная точность, мы выбераем того, кто лучше по \"Точному совпадению\". Если важнее общий смысл, а не дословность, мы посмотрите на \"Похожесть по смыслу\".\n",
        "\n",
        "В общем, это способ объективно измерить, насколько хорошо языковые модели умеют отвечать на вопросы, и понять, в чём они сильны, а в чём не очень."
      ]
    },
    {
      "cell_type": "markdown",
      "metadata": {
        "id": "IaxMp8Lm6IG9"
      },
      "source": [
        "Question Answering (QA)\n",
        "\n",
        "1: Берём датасет с вопросами и правильными ответами (50-100 штук на русском)\n",
        "\n",
        "2: Даём вопросы модели, она генерирует ответы\n",
        "\n",
        "3: Сравниваем ответы модели с правильными ответами\n",
        "\n",
        "4: Считаем метрики:\n",
        "\n",
        "F1-score — частичные совпадения\n",
        "Exact Match — точные совпадения\n",
        "BLEU — качество текста\n",
        "Semantic Similarity — похожесть по смыслу\n",
        "5: Анализируем результаты — какая модель лучше отвечает"
      ]
    },
    {
      "cell_type": "markdown",
      "metadata": {
        "id": "WLZU-uKQ7puw"
      },
      "source": [
        "Выбираем готовый публичный датасет:\n",
        "\n",
        "SberQuAD\n",
        "\n",
        "Источник: Hugging Face\n",
        "Размер: 50K+ примеров.\n",
        "Почему SberQuAD?\n",
        "\n",
        "- Соответствие задаче: SberQuAD является русской версией SQuAD (Stanford Question Answering Dataset), который специально разработан для задач QA и оценки точности фактической информации. Это идеально соответствует фокусу Трек.\n",
        "\n",
        "- Готовый формат (контекст + вопрос + ответ): Наличие контекста, вопроса и эталонного ответа упрощает использование датасета для оценки. Модели будут отвечать на вопросы на основе предоставленного контекста, что является стандартным подходом в QA.\n",
        "\n",
        "- Большой размер: 50K+ примеров — это достаточно большой объем данных, чтобы провести значимое сравнение моделей.\n",
        "\n",
        "- Актуальность: Это публичный и широко известный датасет, который уже используется для бенчмаркинга русскоязычных QA-систем, что делает результаты более сопоставимыми с другими исследованиями."
      ]
    },
    {
      "cell_type": "markdown",
      "metadata": {
        "id": "CiymWKbVDERH"
      },
      "source": [
        "! Этот набор моделей для эксперимента очень хорошо сбалансирован и позволит вам провести глубокий анализ.\n",
        "Описание архитектур декодеров указанных моделей:\n",
        "\n",
        "1. cointegrated/rut5-base-multitask (T5)\n",
        "Это модель на базе архитектуры T5 (Text-to-Text Transfer Transformer), которая является семейством энкодер-декодерных трансформеров.\n",
        "\n",
        "Декодер у T5 — это авторегрессивный трансформер, который генерирует выходной текст шаг за шагом, используя маскирование для предотвращения \"заглядывания вперёд\".\n",
        "\n",
        "Он получает на вход скрытые представления из энкодера и генерирует последовательность токенов.\n",
        "\n",
        "Благодаря отдельному декодеру T5 можно эффективно выполнять задачи генерации текста, трансформации и перевода.\n",
        "\n",
        "Декодер оснащён слоями внимания (self-attention и cross-attention) и полностью обучается совместно с энкодером для оптимального контекстного понимания и генерации.\n",
        "\n",
        "2. sberbank-ai/rugpt3small_based_on_gpt2 (GPT2)\n",
        "Основан на архитектуре GPT-2, которая состоит из одного трансформерного декодера без энкодера (decoder-only).\n",
        "\n",
        "Декодер GPT-2 — это авторегрессивный трансформер с маскированием, который генерирует текст по одному токену, учитывая предыдущие токены в последовательности.\n",
        "\n",
        "В модели используются слои self-attention с маскированием для предотвращения утечки будущей информации.\n",
        "\n",
        "Архитектура ориентирована на генерацию последовательностей и удобна для задач автодополнения, генерации текста, диалогов.\n",
        "\n",
        "В версии Sberbank AI добавлена адаптация под русский язык и оптимизация под малый размер (small).\n",
        "\n",
        "3. Den4ikAI/rubert_large_squad_2\n",
        "Модель RuBERT Large основана на архитектуре BERT, которая является энкодером, и не содержит декодера в классическом смысле.\n",
        "\n",
        "Для решения задачи вопросно-ответа (QA) к BERT добавляются специализированные выходные слои (heads), которые предсказывают позиции начала и конца ответа в контексте.\n",
        "\n",
        "Модель не генерирует последовательность токенов, а выделяет существующий фрагмент текста (извлечение ответа).\n",
        "\n",
        "Поэтому термин \"декодер\" здесь менее применим — это скорее энкодер с классификационными слоями.\n",
        "\n",
        "Обеспечивает глубокое представление контекста и точное выделение ответов на вопросы.\n",
        "\n",
        "\n",
        "\n"
      ]
    },
    {
      "cell_type": "markdown",
      "metadata": {
        "id": "HyYqa1Wm7pBD"
      },
      "source": [
        "# Проверяем модели по тексту"
      ]
    },
    {
      "cell_type": "code",
      "execution_count": 66,
      "metadata": {
        "colab": {
          "base_uri": "https://localhost:8080/"
        },
        "id": "dDIrWS3v_fLG",
        "outputId": "65c51dfe-0f35-4639-a03b-0cd40272e060"
      },
      "outputs": [
        {
          "name": "stdout",
          "output_type": "stream",
          "text": [
            "Requirement already satisfied: transformers in /usr/local/lib/python3.12/dist-packages (4.55.4)\n",
            "Requirement already satisfied: torch in /usr/local/lib/python3.12/dist-packages (2.8.0+cu126)\n",
            "Requirement already satisfied: datasets in /usr/local/lib/python3.12/dist-packages (4.0.0)\n",
            "Requirement already satisfied: evaluate in /usr/local/lib/python3.12/dist-packages (0.4.5)\n",
            "Requirement already satisfied: sentence-transformers in /usr/local/lib/python3.12/dist-packages (5.1.0)\n",
            "Requirement already satisfied: nltk in /usr/local/lib/python3.12/dist-packages (3.9.1)\n",
            "Requirement already satisfied: openai in /usr/local/lib/python3.12/dist-packages (1.101.0)\n",
            "Requirement already satisfied: tqdm in /usr/local/lib/python3.12/dist-packages (4.67.1)\n",
            "Requirement already satisfied: filelock in /usr/local/lib/python3.12/dist-packages (from transformers) (3.19.1)\n",
            "Requirement already satisfied: huggingface-hub<1.0,>=0.34.0 in /usr/local/lib/python3.12/dist-packages (from transformers) (0.34.4)\n",
            "Requirement already satisfied: numpy>=1.17 in /usr/local/lib/python3.12/dist-packages (from transformers) (2.0.2)\n",
            "Requirement already satisfied: packaging>=20.0 in /usr/local/lib/python3.12/dist-packages (from transformers) (25.0)\n",
            "Requirement already satisfied: pyyaml>=5.1 in /usr/local/lib/python3.12/dist-packages (from transformers) (6.0.2)\n",
            "Requirement already satisfied: regex!=2019.12.17 in /usr/local/lib/python3.12/dist-packages (from transformers) (2024.11.6)\n",
            "Requirement already satisfied: requests in /usr/local/lib/python3.12/dist-packages (from transformers) (2.32.4)\n",
            "Requirement already satisfied: tokenizers<0.22,>=0.21 in /usr/local/lib/python3.12/dist-packages (from transformers) (0.21.4)\n",
            "Requirement already satisfied: safetensors>=0.4.3 in /usr/local/lib/python3.12/dist-packages (from transformers) (0.6.2)\n",
            "Requirement already satisfied: typing-extensions>=4.10.0 in /usr/local/lib/python3.12/dist-packages (from torch) (4.15.0)\n",
            "Requirement already satisfied: setuptools in /usr/local/lib/python3.12/dist-packages (from torch) (75.2.0)\n",
            "Requirement already satisfied: sympy>=1.13.3 in /usr/local/lib/python3.12/dist-packages (from torch) (1.13.3)\n",
            "Requirement already satisfied: networkx in /usr/local/lib/python3.12/dist-packages (from torch) (3.5)\n",
            "Requirement already satisfied: jinja2 in /usr/local/lib/python3.12/dist-packages (from torch) (3.1.6)\n",
            "Requirement already satisfied: fsspec in /usr/local/lib/python3.12/dist-packages (from torch) (2025.3.0)\n",
            "Requirement already satisfied: nvidia-cuda-nvrtc-cu12==12.6.77 in /usr/local/lib/python3.12/dist-packages (from torch) (12.6.77)\n",
            "Requirement already satisfied: nvidia-cuda-runtime-cu12==12.6.77 in /usr/local/lib/python3.12/dist-packages (from torch) (12.6.77)\n",
            "Requirement already satisfied: nvidia-cuda-cupti-cu12==12.6.80 in /usr/local/lib/python3.12/dist-packages (from torch) (12.6.80)\n",
            "Requirement already satisfied: nvidia-cudnn-cu12==9.10.2.21 in /usr/local/lib/python3.12/dist-packages (from torch) (9.10.2.21)\n",
            "Requirement already satisfied: nvidia-cublas-cu12==12.6.4.1 in /usr/local/lib/python3.12/dist-packages (from torch) (12.6.4.1)\n",
            "Requirement already satisfied: nvidia-cufft-cu12==11.3.0.4 in /usr/local/lib/python3.12/dist-packages (from torch) (11.3.0.4)\n",
            "Requirement already satisfied: nvidia-curand-cu12==10.3.7.77 in /usr/local/lib/python3.12/dist-packages (from torch) (10.3.7.77)\n",
            "Requirement already satisfied: nvidia-cusolver-cu12==11.7.1.2 in /usr/local/lib/python3.12/dist-packages (from torch) (11.7.1.2)\n",
            "Requirement already satisfied: nvidia-cusparse-cu12==12.5.4.2 in /usr/local/lib/python3.12/dist-packages (from torch) (12.5.4.2)\n",
            "Requirement already satisfied: nvidia-cusparselt-cu12==0.7.1 in /usr/local/lib/python3.12/dist-packages (from torch) (0.7.1)\n",
            "Requirement already satisfied: nvidia-nccl-cu12==2.27.3 in /usr/local/lib/python3.12/dist-packages (from torch) (2.27.3)\n",
            "Requirement already satisfied: nvidia-nvtx-cu12==12.6.77 in /usr/local/lib/python3.12/dist-packages (from torch) (12.6.77)\n",
            "Requirement already satisfied: nvidia-nvjitlink-cu12==12.6.85 in /usr/local/lib/python3.12/dist-packages (from torch) (12.6.85)\n",
            "Requirement already satisfied: nvidia-cufile-cu12==1.11.1.6 in /usr/local/lib/python3.12/dist-packages (from torch) (1.11.1.6)\n",
            "Requirement already satisfied: triton==3.4.0 in /usr/local/lib/python3.12/dist-packages (from torch) (3.4.0)\n",
            "Requirement already satisfied: pyarrow>=15.0.0 in /usr/local/lib/python3.12/dist-packages (from datasets) (18.1.0)\n",
            "Requirement already satisfied: dill<0.3.9,>=0.3.0 in /usr/local/lib/python3.12/dist-packages (from datasets) (0.3.8)\n",
            "Requirement already satisfied: pandas in /usr/local/lib/python3.12/dist-packages (from datasets) (2.2.2)\n",
            "Requirement already satisfied: xxhash in /usr/local/lib/python3.12/dist-packages (from datasets) (3.5.0)\n",
            "Requirement already satisfied: multiprocess<0.70.17 in /usr/local/lib/python3.12/dist-packages (from datasets) (0.70.16)\n",
            "Requirement already satisfied: scikit-learn in /usr/local/lib/python3.12/dist-packages (from sentence-transformers) (1.6.1)\n",
            "Requirement already satisfied: scipy in /usr/local/lib/python3.12/dist-packages (from sentence-transformers) (1.16.1)\n",
            "Requirement already satisfied: Pillow in /usr/local/lib/python3.12/dist-packages (from sentence-transformers) (11.3.0)\n",
            "Requirement already satisfied: click in /usr/local/lib/python3.12/dist-packages (from nltk) (8.2.1)\n",
            "Requirement already satisfied: joblib in /usr/local/lib/python3.12/dist-packages (from nltk) (1.5.1)\n",
            "Requirement already satisfied: anyio<5,>=3.5.0 in /usr/local/lib/python3.12/dist-packages (from openai) (4.10.0)\n",
            "Requirement already satisfied: distro<2,>=1.7.0 in /usr/local/lib/python3.12/dist-packages (from openai) (1.9.0)\n",
            "Requirement already satisfied: httpx<1,>=0.23.0 in /usr/local/lib/python3.12/dist-packages (from openai) (0.28.1)\n",
            "Requirement already satisfied: jiter<1,>=0.4.0 in /usr/local/lib/python3.12/dist-packages (from openai) (0.10.0)\n",
            "Requirement already satisfied: pydantic<3,>=1.9.0 in /usr/local/lib/python3.12/dist-packages (from openai) (2.11.7)\n",
            "Requirement already satisfied: sniffio in /usr/local/lib/python3.12/dist-packages (from openai) (1.3.1)\n",
            "Requirement already satisfied: idna>=2.8 in /usr/local/lib/python3.12/dist-packages (from anyio<5,>=3.5.0->openai) (3.10)\n",
            "Requirement already satisfied: aiohttp!=4.0.0a0,!=4.0.0a1 in /usr/local/lib/python3.12/dist-packages (from fsspec[http]<=2025.3.0,>=2023.1.0->datasets) (3.12.15)\n",
            "Requirement already satisfied: certifi in /usr/local/lib/python3.12/dist-packages (from httpx<1,>=0.23.0->openai) (2025.8.3)\n",
            "Requirement already satisfied: httpcore==1.* in /usr/local/lib/python3.12/dist-packages (from httpx<1,>=0.23.0->openai) (1.0.9)\n",
            "Requirement already satisfied: h11>=0.16 in /usr/local/lib/python3.12/dist-packages (from httpcore==1.*->httpx<1,>=0.23.0->openai) (0.16.0)\n",
            "Requirement already satisfied: hf-xet<2.0.0,>=1.1.3 in /usr/local/lib/python3.12/dist-packages (from huggingface-hub<1.0,>=0.34.0->transformers) (1.1.8)\n",
            "Requirement already satisfied: annotated-types>=0.6.0 in /usr/local/lib/python3.12/dist-packages (from pydantic<3,>=1.9.0->openai) (0.7.0)\n",
            "Requirement already satisfied: pydantic-core==2.33.2 in /usr/local/lib/python3.12/dist-packages (from pydantic<3,>=1.9.0->openai) (2.33.2)\n",
            "Requirement already satisfied: typing-inspection>=0.4.0 in /usr/local/lib/python3.12/dist-packages (from pydantic<3,>=1.9.0->openai) (0.4.1)\n",
            "Requirement already satisfied: charset_normalizer<4,>=2 in /usr/local/lib/python3.12/dist-packages (from requests->transformers) (3.4.3)\n",
            "Requirement already satisfied: urllib3<3,>=1.21.1 in /usr/local/lib/python3.12/dist-packages (from requests->transformers) (2.5.0)\n",
            "Requirement already satisfied: mpmath<1.4,>=1.1.0 in /usr/local/lib/python3.12/dist-packages (from sympy>=1.13.3->torch) (1.3.0)\n",
            "Requirement already satisfied: MarkupSafe>=2.0 in /usr/local/lib/python3.12/dist-packages (from jinja2->torch) (3.0.2)\n",
            "Requirement already satisfied: python-dateutil>=2.8.2 in /usr/local/lib/python3.12/dist-packages (from pandas->datasets) (2.9.0.post0)\n",
            "Requirement already satisfied: pytz>=2020.1 in /usr/local/lib/python3.12/dist-packages (from pandas->datasets) (2025.2)\n",
            "Requirement already satisfied: tzdata>=2022.7 in /usr/local/lib/python3.12/dist-packages (from pandas->datasets) (2025.2)\n",
            "Requirement already satisfied: threadpoolctl>=3.1.0 in /usr/local/lib/python3.12/dist-packages (from scikit-learn->sentence-transformers) (3.6.0)\n",
            "Requirement already satisfied: aiohappyeyeballs>=2.5.0 in /usr/local/lib/python3.12/dist-packages (from aiohttp!=4.0.0a0,!=4.0.0a1->fsspec[http]<=2025.3.0,>=2023.1.0->datasets) (2.6.1)\n",
            "Requirement already satisfied: aiosignal>=1.4.0 in /usr/local/lib/python3.12/dist-packages (from aiohttp!=4.0.0a0,!=4.0.0a1->fsspec[http]<=2025.3.0,>=2023.1.0->datasets) (1.4.0)\n",
            "Requirement already satisfied: attrs>=17.3.0 in /usr/local/lib/python3.12/dist-packages (from aiohttp!=4.0.0a0,!=4.0.0a1->fsspec[http]<=2025.3.0,>=2023.1.0->datasets) (25.3.0)\n",
            "Requirement already satisfied: frozenlist>=1.1.1 in /usr/local/lib/python3.12/dist-packages (from aiohttp!=4.0.0a0,!=4.0.0a1->fsspec[http]<=2025.3.0,>=2023.1.0->datasets) (1.7.0)\n",
            "Requirement already satisfied: multidict<7.0,>=4.5 in /usr/local/lib/python3.12/dist-packages (from aiohttp!=4.0.0a0,!=4.0.0a1->fsspec[http]<=2025.3.0,>=2023.1.0->datasets) (6.6.4)\n",
            "Requirement already satisfied: propcache>=0.2.0 in /usr/local/lib/python3.12/dist-packages (from aiohttp!=4.0.0a0,!=4.0.0a1->fsspec[http]<=2025.3.0,>=2023.1.0->datasets) (0.3.2)\n",
            "Requirement already satisfied: yarl<2.0,>=1.17.0 in /usr/local/lib/python3.12/dist-packages (from aiohttp!=4.0.0a0,!=4.0.0a1->fsspec[http]<=2025.3.0,>=2023.1.0->datasets) (1.20.1)\n",
            "Requirement already satisfied: six>=1.5 in /usr/local/lib/python3.12/dist-packages (from python-dateutil>=2.8.2->pandas->datasets) (1.17.0)\n"
          ]
        }
      ],
      "source": [
        "!pip install transformers torch datasets evaluate sentence-transformers nltk openai tqdm\n"
      ]
    },
    {
      "cell_type": "code",
      "execution_count": 70,
      "metadata": {
        "colab": {
          "base_uri": "https://localhost:8080/"
        },
        "id": "2d-r0wejJmn9",
        "outputId": "ac554140-5eb5-4cf8-d97e-9908f65c65af"
      },
      "outputs": [
        {
          "name": "stdout",
          "output_type": "stream",
          "text": [
            "Ответ: Лев Николаевич Толстой\n"
          ]
        }
      ],
      "source": [
        "import os\n",
        "from transformers import T5ForConditionalGeneration, T5Tokenizer\n",
        "\n",
        "# Указываем токен для доступа к Hugging Face\n",
        "HF_API_TOKEN = \"Добавте свой токен\"\n",
        "\n",
        "# Загрузка модели и токенизатора с использованием токена\n",
        "model_name = \"cointegrated/rut5-base-multitask\"\n",
        "tokenizer = T5Tokenizer.from_pretrained(model_name, token=HF_API_TOKEN, legacy=False)\n",
        "model = T5ForConditionalGeneration.from_pretrained(model_name, token=HF_API_TOKEN)\n",
        "\n",
        "# Пример вопроса и контекста\n",
        "context = \"Лев Николаевич Толстой написал роман 'Война и мир' в 1869 году.\"\n",
        "question = \"Кто написал роман 'Война и мир'?\"\n",
        "\n",
        "# Формирование входных данных\n",
        "input_text = f\"question: {question} context: {context}\"\n",
        "input_ids = tokenizer(input_text, return_tensors=\"pt\", max_length=512, truncation=True).input_ids\n",
        "\n",
        "# Генерация ответа\n",
        "outputs = model.generate(input_ids, max_length=50)\n",
        "answer = tokenizer.decode(outputs[0], skip_special_tokens=True)\n",
        "\n",
        "print(f\"Ответ: {answer}\")\n"
      ]
    },
    {
      "cell_type": "code",
      "execution_count": 69,
      "metadata": {
        "colab": {
          "base_uri": "https://localhost:8080/"
        },
        "id": "t99X3JojJmrl",
        "outputId": "0116cb4f-840f-4b3b-9e00-fad28cc454c3"
      },
      "outputs": [
        {
          "name": "stdout",
          "output_type": "stream",
          "text": [
            "Введите ваш Hugging Face токен: ··········\n"
          ]
        },
        {
          "name": "stderr",
          "output_type": "stream",
          "text": [
            "The attention mask is not set and cannot be inferred from input because pad token is same as eos token. As a consequence, you may observe unexpected behavior. Please pass your input's `attention_mask` to obtain reliable results.\n"
          ]
        },
        {
          "name": "stdout",
          "output_type": "stream",
          "text": [
            "Ответ:  В.Н.Толстой. Это роман-эпопея, написанная в 1872-1873 годах. В ней рассказывается о событиях, происходивших в России в начале XIX века. Роман был опубликован в журнале 'Огонек'.\n",
            "\n"
          ]
        }
      ],
      "source": [
        "import os\n",
        "from transformers import GPT2LMHeadModel, GPT2Tokenizer\n",
        "\n",
        "HF_API_TOKEN = getpass(\"Введите ваш Hugging Face токен: \")\n",
        "os.environ[\"HF_TOKEN\"] = HF_API_TOKEN\n",
        "\n",
        "# Загрузка модели и токенизатора\n",
        "model_name = \"sberbank-ai/rugpt3small_based_on_gpt2\"\n",
        "tokenizer = GPT2Tokenizer.from_pretrained(model_name, token=HF_API_TOKEN)\n",
        "model = GPT2LMHeadModel.from_pretrained(model_name, token=HF_API_TOKEN)\n",
        "\n",
        "# Пример вопроса и контекста\n",
        "context = \"Лев Николаевич Толстой написал роман 'Война и мир' в 1869 году.\"\n",
        "question = \"Кто написал роман 'Война и мир'?\"\n",
        "\n",
        "# Формирование входных данных\n",
        "input_text = f\"Контекст: {context}\\nВопрос: {question}\\nОтвет:\"\n",
        "input_ids = tokenizer.encode(input_text, return_tensors=\"pt\")\n",
        "\n",
        "# Генерация ответа\n",
        "outputs = model.generate(\n",
        "    input_ids,\n",
        "    max_length=len(input_ids[0]) + 50,  # Увеличиваем длину для генерации ответа\n",
        "    num_beams=5,\n",
        "    early_stopping=True,\n",
        "    no_repeat_ngram_size=2,\n",
        "    pad_token_id=tokenizer.eos_token_id\n",
        ")\n",
        "\n",
        "# Декодирование ответа\n",
        "answer_ids = outputs[0][len(input_ids[0]):]  # Извлекаем только сгенерированную часть\n",
        "answer = tokenizer.decode(answer_ids, skip_special_tokens=True)\n",
        "\n",
        "print(f\"Ответ: {answer}\")\n"
      ]
    },
    {
      "cell_type": "markdown",
      "metadata": {
        "id": "kCwOBu-88SgC"
      },
      "source": [
        "# Смотрим на датасет"
      ]
    },
    {
      "cell_type": "code",
      "execution_count": 65,
      "metadata": {
        "colab": {
          "base_uri": "https://localhost:8080/"
        },
        "id": "CqpKUB6ocKvK",
        "outputId": "27736515-78f0-422c-e213-01a8889a8505"
      },
      "outputs": [
        {
          "name": "stdout",
          "output_type": "stream",
          "text": [
            "Requirement already satisfied: datasets in /usr/local/lib/python3.12/dist-packages (4.0.0)\n",
            "Requirement already satisfied: evaluate in /usr/local/lib/python3.12/dist-packages (0.4.5)\n",
            "Requirement already satisfied: requests in /usr/local/lib/python3.12/dist-packages (2.32.4)\n",
            "Requirement already satisfied: numpy in /usr/local/lib/python3.12/dist-packages (2.0.2)\n",
            "Requirement already satisfied: transformers in /usr/local/lib/python3.12/dist-packages (4.55.4)\n",
            "Requirement already satisfied: torch in /usr/local/lib/python3.12/dist-packages (2.8.0+cu126)\n",
            "Collecting rouge_score\n",
            "  Downloading rouge_score-0.1.2.tar.gz (17 kB)\n",
            "  Preparing metadata (setup.py) ... \u001b[?25l\u001b[?25hdone\n",
            "Requirement already satisfied: filelock in /usr/local/lib/python3.12/dist-packages (from datasets) (3.19.1)\n",
            "Requirement already satisfied: pyarrow>=15.0.0 in /usr/local/lib/python3.12/dist-packages (from datasets) (18.1.0)\n",
            "Requirement already satisfied: dill<0.3.9,>=0.3.0 in /usr/local/lib/python3.12/dist-packages (from datasets) (0.3.8)\n",
            "Requirement already satisfied: pandas in /usr/local/lib/python3.12/dist-packages (from datasets) (2.2.2)\n",
            "Requirement already satisfied: tqdm>=4.66.3 in /usr/local/lib/python3.12/dist-packages (from datasets) (4.67.1)\n",
            "Requirement already satisfied: xxhash in /usr/local/lib/python3.12/dist-packages (from datasets) (3.5.0)\n",
            "Requirement already satisfied: multiprocess<0.70.17 in /usr/local/lib/python3.12/dist-packages (from datasets) (0.70.16)\n",
            "Requirement already satisfied: fsspec<=2025.3.0,>=2023.1.0 in /usr/local/lib/python3.12/dist-packages (from fsspec[http]<=2025.3.0,>=2023.1.0->datasets) (2025.3.0)\n",
            "Requirement already satisfied: huggingface-hub>=0.24.0 in /usr/local/lib/python3.12/dist-packages (from datasets) (0.34.4)\n",
            "Requirement already satisfied: packaging in /usr/local/lib/python3.12/dist-packages (from datasets) (25.0)\n",
            "Requirement already satisfied: pyyaml>=5.1 in /usr/local/lib/python3.12/dist-packages (from datasets) (6.0.2)\n",
            "Requirement already satisfied: charset_normalizer<4,>=2 in /usr/local/lib/python3.12/dist-packages (from requests) (3.4.3)\n",
            "Requirement already satisfied: idna<4,>=2.5 in /usr/local/lib/python3.12/dist-packages (from requests) (3.10)\n",
            "Requirement already satisfied: urllib3<3,>=1.21.1 in /usr/local/lib/python3.12/dist-packages (from requests) (2.5.0)\n",
            "Requirement already satisfied: certifi>=2017.4.17 in /usr/local/lib/python3.12/dist-packages (from requests) (2025.8.3)\n",
            "Requirement already satisfied: regex!=2019.12.17 in /usr/local/lib/python3.12/dist-packages (from transformers) (2024.11.6)\n",
            "Requirement already satisfied: tokenizers<0.22,>=0.21 in /usr/local/lib/python3.12/dist-packages (from transformers) (0.21.4)\n",
            "Requirement already satisfied: safetensors>=0.4.3 in /usr/local/lib/python3.12/dist-packages (from transformers) (0.6.2)\n",
            "Requirement already satisfied: typing-extensions>=4.10.0 in /usr/local/lib/python3.12/dist-packages (from torch) (4.15.0)\n",
            "Requirement already satisfied: setuptools in /usr/local/lib/python3.12/dist-packages (from torch) (75.2.0)\n",
            "Requirement already satisfied: sympy>=1.13.3 in /usr/local/lib/python3.12/dist-packages (from torch) (1.13.3)\n",
            "Requirement already satisfied: networkx in /usr/local/lib/python3.12/dist-packages (from torch) (3.5)\n",
            "Requirement already satisfied: jinja2 in /usr/local/lib/python3.12/dist-packages (from torch) (3.1.6)\n",
            "Requirement already satisfied: nvidia-cuda-nvrtc-cu12==12.6.77 in /usr/local/lib/python3.12/dist-packages (from torch) (12.6.77)\n",
            "Requirement already satisfied: nvidia-cuda-runtime-cu12==12.6.77 in /usr/local/lib/python3.12/dist-packages (from torch) (12.6.77)\n",
            "Requirement already satisfied: nvidia-cuda-cupti-cu12==12.6.80 in /usr/local/lib/python3.12/dist-packages (from torch) (12.6.80)\n",
            "Requirement already satisfied: nvidia-cudnn-cu12==9.10.2.21 in /usr/local/lib/python3.12/dist-packages (from torch) (9.10.2.21)\n",
            "Requirement already satisfied: nvidia-cublas-cu12==12.6.4.1 in /usr/local/lib/python3.12/dist-packages (from torch) (12.6.4.1)\n",
            "Requirement already satisfied: nvidia-cufft-cu12==11.3.0.4 in /usr/local/lib/python3.12/dist-packages (from torch) (11.3.0.4)\n",
            "Requirement already satisfied: nvidia-curand-cu12==10.3.7.77 in /usr/local/lib/python3.12/dist-packages (from torch) (10.3.7.77)\n",
            "Requirement already satisfied: nvidia-cusolver-cu12==11.7.1.2 in /usr/local/lib/python3.12/dist-packages (from torch) (11.7.1.2)\n",
            "Requirement already satisfied: nvidia-cusparse-cu12==12.5.4.2 in /usr/local/lib/python3.12/dist-packages (from torch) (12.5.4.2)\n",
            "Requirement already satisfied: nvidia-cusparselt-cu12==0.7.1 in /usr/local/lib/python3.12/dist-packages (from torch) (0.7.1)\n",
            "Requirement already satisfied: nvidia-nccl-cu12==2.27.3 in /usr/local/lib/python3.12/dist-packages (from torch) (2.27.3)\n",
            "Requirement already satisfied: nvidia-nvtx-cu12==12.6.77 in /usr/local/lib/python3.12/dist-packages (from torch) (12.6.77)\n",
            "Requirement already satisfied: nvidia-nvjitlink-cu12==12.6.85 in /usr/local/lib/python3.12/dist-packages (from torch) (12.6.85)\n",
            "Requirement already satisfied: nvidia-cufile-cu12==1.11.1.6 in /usr/local/lib/python3.12/dist-packages (from torch) (1.11.1.6)\n",
            "Requirement already satisfied: triton==3.4.0 in /usr/local/lib/python3.12/dist-packages (from torch) (3.4.0)\n",
            "Requirement already satisfied: absl-py in /usr/local/lib/python3.12/dist-packages (from rouge_score) (1.4.0)\n",
            "Requirement already satisfied: nltk in /usr/local/lib/python3.12/dist-packages (from rouge_score) (3.9.1)\n",
            "Requirement already satisfied: six>=1.14.0 in /usr/local/lib/python3.12/dist-packages (from rouge_score) (1.17.0)\n",
            "Requirement already satisfied: aiohttp!=4.0.0a0,!=4.0.0a1 in /usr/local/lib/python3.12/dist-packages (from fsspec[http]<=2025.3.0,>=2023.1.0->datasets) (3.12.15)\n",
            "Requirement already satisfied: hf-xet<2.0.0,>=1.1.3 in /usr/local/lib/python3.12/dist-packages (from huggingface-hub>=0.24.0->datasets) (1.1.8)\n",
            "Requirement already satisfied: mpmath<1.4,>=1.1.0 in /usr/local/lib/python3.12/dist-packages (from sympy>=1.13.3->torch) (1.3.0)\n",
            "Requirement already satisfied: MarkupSafe>=2.0 in /usr/local/lib/python3.12/dist-packages (from jinja2->torch) (3.0.2)\n",
            "Requirement already satisfied: click in /usr/local/lib/python3.12/dist-packages (from nltk->rouge_score) (8.2.1)\n",
            "Requirement already satisfied: joblib in /usr/local/lib/python3.12/dist-packages (from nltk->rouge_score) (1.5.1)\n",
            "Requirement already satisfied: python-dateutil>=2.8.2 in /usr/local/lib/python3.12/dist-packages (from pandas->datasets) (2.9.0.post0)\n",
            "Requirement already satisfied: pytz>=2020.1 in /usr/local/lib/python3.12/dist-packages (from pandas->datasets) (2025.2)\n",
            "Requirement already satisfied: tzdata>=2022.7 in /usr/local/lib/python3.12/dist-packages (from pandas->datasets) (2025.2)\n",
            "Requirement already satisfied: aiohappyeyeballs>=2.5.0 in /usr/local/lib/python3.12/dist-packages (from aiohttp!=4.0.0a0,!=4.0.0a1->fsspec[http]<=2025.3.0,>=2023.1.0->datasets) (2.6.1)\n",
            "Requirement already satisfied: aiosignal>=1.4.0 in /usr/local/lib/python3.12/dist-packages (from aiohttp!=4.0.0a0,!=4.0.0a1->fsspec[http]<=2025.3.0,>=2023.1.0->datasets) (1.4.0)\n",
            "Requirement already satisfied: attrs>=17.3.0 in /usr/local/lib/python3.12/dist-packages (from aiohttp!=4.0.0a0,!=4.0.0a1->fsspec[http]<=2025.3.0,>=2023.1.0->datasets) (25.3.0)\n",
            "Requirement already satisfied: frozenlist>=1.1.1 in /usr/local/lib/python3.12/dist-packages (from aiohttp!=4.0.0a0,!=4.0.0a1->fsspec[http]<=2025.3.0,>=2023.1.0->datasets) (1.7.0)\n",
            "Requirement already satisfied: multidict<7.0,>=4.5 in /usr/local/lib/python3.12/dist-packages (from aiohttp!=4.0.0a0,!=4.0.0a1->fsspec[http]<=2025.3.0,>=2023.1.0->datasets) (6.6.4)\n",
            "Requirement already satisfied: propcache>=0.2.0 in /usr/local/lib/python3.12/dist-packages (from aiohttp!=4.0.0a0,!=4.0.0a1->fsspec[http]<=2025.3.0,>=2023.1.0->datasets) (0.3.2)\n",
            "Requirement already satisfied: yarl<2.0,>=1.17.0 in /usr/local/lib/python3.12/dist-packages (from aiohttp!=4.0.0a0,!=4.0.0a1->fsspec[http]<=2025.3.0,>=2023.1.0->datasets) (1.20.1)\n",
            "Building wheels for collected packages: rouge_score\n",
            "  Building wheel for rouge_score (setup.py) ... \u001b[?25l\u001b[?25hdone\n",
            "  Created wheel for rouge_score: filename=rouge_score-0.1.2-py3-none-any.whl size=24934 sha256=ab12bf7d0ac525df88c87fb0334fb8bcb94276be04ecea1ad4558f4b8e2f531f\n",
            "  Stored in directory: /root/.cache/pip/wheels/85/9d/af/01feefbe7d55ef5468796f0c68225b6788e85d9d0a281e7a70\n",
            "Successfully built rouge_score\n",
            "Installing collected packages: rouge_score\n",
            "Successfully installed rouge_score-0.1.2\n",
            "Введите ваш Hugging Face токен: ··········\n",
            "Датасет SberQuAD загружен! Размер: 5036 примеров\n"
          ]
        }
      ],
      "source": [
        "!pip install datasets evaluate requests numpy transformers torch rouge_score\n",
        "\n",
        "import os\n",
        "import requests\n",
        "import time\n",
        "from datasets import load_dataset\n",
        "from evaluate import load\n",
        "import evaluate\n",
        "import numpy as np\n",
        "from collections import defaultdict\n",
        "\n",
        "from getpass import getpass\n",
        "\n",
        "HF_API_TOKEN = getpass(\"Введите ваш Hugging Face токен: \")\n",
        "os.environ[\"HF_TOKEN\"] = HF_API_TOKEN\n",
        "\n",
        "try:\n",
        "    dataset = load_dataset(\"kuznetsoffandrey/sberquad\", token=HF_API_TOKEN)\n",
        "    print(f\"Датасет SberQuAD загружен! Размер: {len(dataset['validation'])} примеров\")\n",
        "except Exception as e:\n",
        "    print(f\"Ошибка при загрузке датасета: {e}\")"
      ]
    },
    {
      "cell_type": "code",
      "execution_count": null,
      "metadata": {
        "colab": {
          "base_uri": "https://localhost:8080/"
        },
        "id": "rjirMYJWU460",
        "outputId": "90de8751-86cf-4b7c-f3f6-70c495e5bce8"
      },
      "outputs": [
        {
          "name": "stdout",
          "output_type": "stream",
          "text": [
            "Доступные разделы: dict_keys(['train', 'validation', 'test'])\n"
          ]
        }
      ],
      "source": [
        "print(\"Доступные разделы:\", dataset.keys())"
      ]
    },
    {
      "cell_type": "markdown",
      "metadata": {
        "id": "722GS_nqSJTr"
      },
      "source": [
        "Нам подходит раздел validation (валидационный набор).\n",
        "\n",
        "Вот почему:\n",
        "- train (обучающий набор): Этот раздел используется для обучения моделей. Если вы будете оценивать модели на данных, на которых они обучались, результаты будут завышены и не будут отражать их реальную производительность на новых, \"невиданных\" данных. Это называется \"переобучение\".\n",
        "- test (тестовый набор): Тестовый набор предназначен для финальной, окончательной оценки модели после завершения всех этапов разработки и тюнинга. Его обычно держат в \"строгом секрете\" и используют только один раз, чтобы получить максимально объективную оценку. Если вы будете много раз \"играть\" с тестовым набором, вы можете случайно \"подогнать\" свои настройки под него, и тогда он перестанет быть объективным.\n",
        "- validation (валидационный набор): Этот раздел идеально подходит для экспериментов, отладки, выбора моделей и сравнения их производительности в процессе разработки или выполнения таких заданий, как ваше. Он содержит данные, которые модели, как правило, не видели во время обучения (или видели очень ограниченно), но которые вы можете использовать многократно для оценки, не \"загрязняя\" при этом тестовый набор.\n",
        "\n",
        "- Таким образом, dataset[\"validation\"] — это самый подходящий выбор."
      ]
    },
    {
      "cell_type": "code",
      "execution_count": null,
      "metadata": {
        "colab": {
          "base_uri": "https://localhost:8080/"
        },
        "id": "VE5hgOllSG6L",
        "outputId": "6dede6d5-e134-4650-aa4f-fd958d0e69c3"
      },
      "outputs": [
        {
          "name": "stdout",
          "output_type": "stream",
          "text": [
            "Подготовлено 100 случайных примеров для тестирования.\n"
          ]
        }
      ],
      "source": [
        "import random\n",
        "# Подготавливаем тестовые данные\n",
        "# Берем 1000 случайных примеров из валидационного набора для теста.\n",
        "# shuffle(seed=42) перемешивает данные, а select(range(100)) выбирает первые 100 после перемешивания.\n",
        "# Использование seed=42 гарантирует, что при каждом запуске будут выбраны одни и те же случайные примеры.\n",
        "num_examples = 100  # 100 вопросов\n",
        "test_data  = dataset[\"validation\"].shuffle(seed=42).select(range(num_examples))\n",
        "print(f\"Подготовлено {len(test_data)} случайных примеров для тестирования.\")"
      ]
    },
    {
      "cell_type": "code",
      "execution_count": null,
      "metadata": {
        "colab": {
          "base_uri": "https://localhost:8080/"
        },
        "id": "MmPxgwwDDCVn",
        "outputId": "a0076392-8f38-46ef-b813-81e30ec9ca2e"
      },
      "outputs": [
        {
          "name": "stdout",
          "output_type": "stream",
          "text": [
            "Структура датасета SberQuAD:\n",
            "- Размер тестовой выборки: 100\n",
            "- Поля: ['id', 'title', 'context', 'question', 'answers']\n",
            "\n",
            " Пример данных:\n",
            "Контекст: Беспилотное воздушное судно — воздушное судно, которое предназначено выполнять полет без пилота на борту.[18] Беспилотная авиационная система — Воздушное судно и связанные с ним элементы, которые эксп...\n",
            "Вопрос: Как называется воздушное судно, выполняющее полет без пилота на борту?\n",
            "Ответ: Беспилотное\n",
            "Позиция ответа: 0\n",
            "\n",
            "Описание датасета:\n",
            "Источник: Hugging Face (kuznetsoffandrey/sberquad)\n",
            "Описание: Русская версия датасета SQuAD\n",
            "Формат: Контекст + Вопрос + Ответ с позицией\n",
            "Язык: Русский\n",
            "Тип задачи: Extractive Question Answering\n"
          ]
        }
      ],
      "source": [
        "\n",
        "# Проверяем структуру данных\n",
        "print(\"Структура датасета SberQuAD:\")\n",
        "print(f\"- Размер тестовой выборки: {len(test_data)}\")\n",
        "print(f\"- Поля: {test_data.column_names}\")\n",
        "\n",
        "# Показываем пример\n",
        "sample = test_data[0]\n",
        "print(f\"\\n Пример данных:\")\n",
        "print(f\"Контекст: {sample['context'][:200]}...\")\n",
        "print(f\"Вопрос: {sample['question']}\")\n",
        "print(f\"Ответ: {sample['answers']['text'][0]}\")\n",
        "print(f\"Позиция ответа: {sample['answers']['answer_start'][0]}\")\n",
        "\n",
        "# Источник и описание\n",
        "print(f\"\\nОписание датасета:\")\n",
        "print(f\"Источник: Hugging Face (kuznetsoffandrey/sberquad)\")\n",
        "print(f\"Описание: Русская версия датасета SQuAD\")\n",
        "print(f\"Формат: Контекст + Вопрос + Ответ с позицией\")\n",
        "print(f\"Язык: Русский\")\n",
        "print(f\"Тип задачи: Extractive Question Answering\")\n"
      ]
    },
    {
      "cell_type": "code",
      "execution_count": null,
      "metadata": {
        "colab": {
          "base_uri": "https://localhost:8080/"
        },
        "id": "MnLGLWdAYCpZ",
        "outputId": "89411f19-bb10-441d-df17-52593464ab35"
      },
      "outputs": [
        {
          "name": "stdout",
          "output_type": "stream",
          "text": [
            "- Поля: ['id', 'title', 'context', 'question', 'answers']\n"
          ]
        }
      ],
      "source": [
        "print(f\"- Поля: {test_data.column_names}\")"
      ]
    },
    {
      "cell_type": "code",
      "execution_count": null,
      "metadata": {
        "colab": {
          "base_uri": "https://localhost:8080/"
        },
        "id": "iljGhEsuYCwa",
        "outputId": "f1e3fd22-0b7f-4f3c-fef8-69a3290fc765"
      },
      "outputs": [
        {
          "name": "stdout",
          "output_type": "stream",
          "text": [
            "Контекст: Если мутация затрагивает молчащие участки ДНК, либо приводит к замене одного элемента генетического кода на синонимичный, то она обычно никак не проявляется в фенотипе (проявление такой синонимичной з...\n",
            "Вопрос: От чего не зависит или слабо зависит скорость накопления мутаций в данном гене?\n",
            "Эталонный ответ: от действия естественного отбора\n"
          ]
        }
      ],
      "source": [
        "sample = test_data[45]\n",
        "print(f\"Контекст: {sample['context'][:200]}...\")  # Первые 200 символов контекста\n",
        "print(f\"Вопрос: {sample['question']}\")\n",
        "print(f\"Эталонный ответ: {sample['answers']['text'][0]}\")\n"
      ]
    },
    {
      "cell_type": "markdown",
      "metadata": {
        "id": "54UTNqAvZc-N"
      },
      "source": [
        " - Структура выбранных данных\n",
        "Каждый пример в test_data будет содержать:\n",
        "\n",
        "- context: Текст, в котором содержится ответ.\n",
        "- question: Вопрос.\n",
        "- answers: Эталонный ответ и его позиция в контексте."
      ]
    },
    {
      "cell_type": "markdown",
      "metadata": {
        "id": "bu8KHoG_wIcY"
      },
      "source": [
        "## Полный код ##"
      ]
    },
    {
      "cell_type": "code",
      "execution_count": 41,
      "metadata": {
        "id": "cu6yuzAXwKxT"
      },
      "outputs": [],
      "source": [
        "# Установка необходимых библиотек (выполняется один раз)\n",
        "# Запускайте только при первом запуске\n",
        "!pip install -q transformers torch datasets evaluate nltk matplotlib seaborn"
      ]
    },
    {
      "cell_type": "code",
      "execution_count": 42,
      "metadata": {
        "id": "YbdO-7MJK6Ys"
      },
      "outputs": [],
      "source": [
        "import torch\n",
        "import time\n",
        "import numpy as np\n",
        "import matplotlib.pyplot as plt\n",
        "import seaborn as sns\n",
        "from datasets import load_dataset\n",
        "from transformers import (\n",
        "    T5ForConditionalGeneration, T5Tokenizer,\n",
        "    GPT2LMHeadModel, GPT2Tokenizer,\n",
        "    AutoModelForQuestionAnswering, AutoTokenizer\n",
        ")\n",
        "from nltk.translate.bleu_score import sentence_bleu, SmoothingFunction\n",
        "from nltk.tokenize import word_tokenize\n",
        "import nltk\n",
        "import os"
      ]
    },
    {
      "cell_type": "code",
      "execution_count": 43,
      "metadata": {
        "colab": {
          "base_uri": "https://localhost:8080/"
        },
        "id": "UCsxwtYbl8W-",
        "outputId": "cedd9bba-7796-4790-efdb-fd829ea6863d"
      },
      "outputs": [
        {
          "data": {
            "text/plain": [
              "True"
            ]
          },
          "execution_count": 43,
          "metadata": {},
          "output_type": "execute_result"
        }
      ],
      "source": [
        "# Скачиваем ресурс 'punkt' для токенизации предложений\n",
        "nltk.download('punkt', quiet=True)"
      ]
    },
    {
      "cell_type": "code",
      "execution_count": null,
      "metadata": {
        "colab": {
          "base_uri": "https://localhost:8080/"
        },
        "id": "w-sgBn9Jl8cC",
        "outputId": "56688b89-3a3a-422a-b767-65024393a075"
      },
      "outputs": [
        {
          "name": "stdout",
          "output_type": "stream",
          "text": [
            "Введите ваш Hugging Face токен: ··········\n"
          ]
        }
      ],
      "source": [
        "from getpass import getpass\n",
        "\n",
        "# Безопасный ввод токена (не будет виден)\n",
        "HF_API_TOKEN = getpass(\"Введите ваш Hugging Face токен: \")\n",
        "os.environ[\"HF_TOKEN\"] = HF_API_TOKEN"
      ]
    },
    {
      "cell_type": "code",
      "execution_count": 45,
      "metadata": {
        "colab": {
          "base_uri": "https://localhost:8080/"
        },
        "id": "bObRzw_nl8gA",
        "outputId": "122f528a-2ab2-4162-ac4e-daca5b433fb0"
      },
      "outputs": [
        {
          "name": "stdout",
          "output_type": "stream",
          "text": [
            "✅ Датасет SberQuAD загружен! Размер: 5036 примеров\n",
            "✅ Подготовлено 50 случайных примеров для тестирования.\n"
          ]
        }
      ],
      "source": [
        "try:\n",
        "    # Загружаем датасет SberQuAD с использованием токена\n",
        "    dataset = load_dataset(\"kuznetsoffandrey/sberquad\", token=HF_API_TOKEN)\n",
        "    print(f\"✅ Датасет SberQuAD загружен! Размер: {len(dataset['validation'])} примеров\")\n",
        "\n",
        "    # Выбираем 50 случайных примеров для тестирования\n",
        "    num_examples = 50\n",
        "    test_data = dataset[\"validation\"].shuffle(seed=42).select(range(num_examples))\n",
        "    print(f\"✅ Подготовлено {len(test_data)} случайных примеров для тестирования.\")\n",
        "except Exception as e:\n",
        "    print(f\"❌ Ошибка при загрузке датасета: {e}\")\n",
        "    test_data = None"
      ]
    },
    {
      "cell_type": "code",
      "execution_count": 46,
      "metadata": {
        "id": "xu-jrnwZnyWd"
      },
      "outputs": [],
      "source": [
        "# Кэш для ускорения повторной загрузки моделей\n",
        "model_cache = {}"
      ]
    },
    {
      "cell_type": "code",
      "execution_count": 47,
      "metadata": {
        "id": "RxLPRWcanyZ1"
      },
      "outputs": [],
      "source": [
        "def simple_tokenize(text):\n",
        "    \"\"\"Простая токенизация по пробелам.\"\"\"\n",
        "    return text.split()\n",
        "\n",
        "def compute_exact_match(prediction, reference):\n",
        "    \"\"\"Точное совпадение (Exact Match).\"\"\"\n",
        "    return int(prediction.strip() == reference.strip())\n",
        "\n",
        "def compute_f1(prediction, reference):\n",
        "    \"\"\"Расчёт F1 Score на уровне слов.\"\"\"\n",
        "    pred_tokens = set(simple_tokenize(prediction.lower()))\n",
        "    ref_tokens = set(simple_tokenize(reference.lower()))\n",
        "    if len(pred_tokens) == 0 or len(ref_tokens) == 0:\n",
        "        return 0\n",
        "    common_tokens = pred_tokens.intersection(ref_tokens)\n",
        "    precision = len(common_tokens) / len(pred_tokens)\n",
        "    recall = len(common_tokens) / len(ref_tokens)\n",
        "    return 2 * (precision * recall) / (precision + recall) if precision + recall > 0 else 0\n",
        "\n",
        "def compute_bleu(prediction, reference):\n",
        "    \"\"\"Расчёт BLEU Score с использованием NLTK.\"\"\"\n",
        "    smoothing = SmoothingFunction().method1\n",
        "    pred_tokens = simple_tokenize(prediction.lower())\n",
        "    ref_tokens = [simple_tokenize(reference.lower())]\n",
        "    return sentence_bleu(ref_tokens, pred_tokens, smoothing_function=smoothing)"
      ]
    },
    {
      "cell_type": "code",
      "execution_count": 48,
      "metadata": {
        "id": "XFVAGqmmnydT"
      },
      "outputs": [],
      "source": [
        "def get_model_and_tokenizer(model_name, model_type):\n",
        "    \"\"\"Загружает модель и токенизатор по имени.\"\"\"\n",
        "    if model_name in model_cache:\n",
        "        return model_cache[model_name]\n",
        "\n",
        "    try:\n",
        "        if model_type == \"T5\":\n",
        "            tokenizer = T5Tokenizer.from_pretrained(model_name, token=HF_API_TOKEN, legacy=False)\n",
        "            model = T5ForConditionalGeneration.from_pretrained(model_name, token=HF_API_TOKEN)\n",
        "        elif model_type == \"GPT2\":\n",
        "            tokenizer = GPT2Tokenizer.from_pretrained(model_name, token=HF_API_TOKEN)\n",
        "            tokenizer.pad_token = tokenizer.eos_token  # GPT2 не имеет pad-токена\n",
        "            model = GPT2LMHeadModel.from_pretrained(model_name, token=HF_API_TOKEN)\n",
        "        elif model_type == \"QA\":\n",
        "            tokenizer = AutoTokenizer.from_pretrained(model_name, token=HF_API_TOKEN)\n",
        "            model = AutoModelForQuestionAnswering.from_pretrained(model_name, token=HF_API_TOKEN)\n",
        "        else:\n",
        "            print(f\"❌ Неизвестный тип модели: {model_type}\")\n",
        "            return None, None\n",
        "\n",
        "        # Сохраняем в кэш\n",
        "        model_cache[model_name] = (model, tokenizer)\n",
        "        return model, tokenizer\n",
        "\n",
        "    except Exception as e:\n",
        "        print(f\"❌ Ошибка при загрузке модели {model_name}: {e}\")\n",
        "        return None, None"
      ]
    },
    {
      "cell_type": "code",
      "execution_count": 49,
      "metadata": {
        "id": "3HpVB-7qo5zo"
      },
      "outputs": [],
      "source": [
        "def test_t5_model_with_params(model_name, test_data, prompt_format=\"question: {question} context: {context}\",\n",
        "                              temperature=1.0, max_length=50):\n",
        "    \"\"\"Тестирует T5-модель с заданными параметрами.\"\"\"\n",
        "    try:\n",
        "        model, tokenizer = get_model_and_tokenizer(model_name, \"T5\")\n",
        "        if model is None or tokenizer is None:\n",
        "            return []\n",
        "\n",
        "        results = []\n",
        "        for sample in test_data:\n",
        "            question = sample['question']\n",
        "            context = sample['context']\n",
        "            reference = sample['answers']['text'][0]\n",
        "            start_time = time.time()\n",
        "\n",
        "            # Формируем промпт\n",
        "            input_text = prompt_format.format(question=question, context=context) if not callable(prompt_format) else prompt_format(sample)\n",
        "\n",
        "            # Токенизация\n",
        "            inputs = tokenizer(input_text, return_tensors=\"pt\", max_length=512, truncation=True)\n",
        "\n",
        "            # Генерация\n",
        "            with torch.no_grad():\n",
        "                outputs = model.generate(\n",
        "                    inputs.input_ids,\n",
        "                    max_length=max_length,\n",
        "                    temperature=temperature,\n",
        "                    do_sample=True if temperature != 1.0 else False\n",
        "                )\n",
        "\n",
        "            # Декодирование\n",
        "            answer = tokenizer.decode(outputs[0], skip_special_tokens=True)\n",
        "            elapsed_time = time.time() - start_time\n",
        "\n",
        "            results.append({\n",
        "                'question': question,\n",
        "                'context': context,\n",
        "                'reference': reference,\n",
        "                'answer': answer,\n",
        "                'elapsed_time': elapsed_time\n",
        "            })\n",
        "        return results\n",
        "    except Exception as e:\n",
        "        print(f\"❌ Ошибка в test_t5_model_with_params: {e}\")\n",
        "        return []"
      ]
    },
    {
      "cell_type": "code",
      "execution_count": 50,
      "metadata": {
        "id": "CuBMc5UPo54Q"
      },
      "outputs": [],
      "source": [
        "def test_gpt2_model_with_params(model_name, test_data, prompt_format=\"Контекст: {context}\\nВопрос: {question}\\nОтвет:\",\n",
        "                                temperature=1.0, max_new_tokens=14):\n",
        "    \"\"\"Тестирует GPT2-модель.\"\"\"\n",
        "    try:\n",
        "        model, tokenizer = get_model_and_tokenizer(model_name, \"GPT2\")\n",
        "        if model is None or tokenizer is None:\n",
        "            return []\n",
        "\n",
        "        results = []\n",
        "        for sample in test_data:\n",
        "            question = sample['question']\n",
        "            context = sample['context']\n",
        "            reference = sample['answers']['text'][0]\n",
        "            start_time = time.time()\n",
        "\n",
        "            input_text = prompt_format.format(question=question, context=context) if not callable(prompt_format) else prompt_format(sample)\n",
        "            inputs = tokenizer(input_text, return_tensors=\"pt\")\n",
        "\n",
        "            with torch.no_grad():\n",
        "                outputs = model.generate(\n",
        "                    inputs.input_ids,\n",
        "                    attention_mask=inputs.attention_mask,\n",
        "                    max_new_tokens=max_new_tokens,\n",
        "                    temperature=temperature,\n",
        "                    num_beams=5,\n",
        "                    early_stopping=True,\n",
        "                    no_repeat_ngram_size=2,\n",
        "                    do_sample=True if temperature != 1.0 else False,\n",
        "                )\n",
        "\n",
        "            # Удаляем промпт из ответа\n",
        "            full_output = tokenizer.decode(outputs[0], skip_special_tokens=True)\n",
        "            answer = full_output[len(input_text):].strip()\n",
        "            elapsed_time = time.time() - start_time\n",
        "\n",
        "            results.append({\n",
        "                'question': question,\n",
        "                'context': context,\n",
        "                'reference': reference,\n",
        "                'answer': answer,\n",
        "                'elapsed_time': elapsed_time\n",
        "            })\n",
        "        return results\n",
        "    except Exception as e:\n",
        "        print(f\"❌ Ошибка: {e}\")\n",
        "        return []"
      ]
    },
    {
      "cell_type": "code",
      "execution_count": 51,
      "metadata": {
        "id": "ZtyH0zsro57v"
      },
      "outputs": [],
      "source": [
        "def test_qa_model(model_name, test_data):\n",
        "    \"\"\"Тестирует модель для вопросно-ответных систем (QA).\"\"\"\n",
        "    try:\n",
        "        model, tokenizer = get_model_and_tokenizer(model_name, \"QA\")\n",
        "        if model is None or tokenizer is None:\n",
        "            return []\n",
        "\n",
        "        results = []\n",
        "        for sample in test_data:\n",
        "            question = sample['question']\n",
        "            context = sample['context']\n",
        "            reference = sample['answers']['text'][0]\n",
        "            start_time = time.time()\n",
        "\n",
        "            inputs = tokenizer(question, context, return_tensors=\"pt\", truncation=True, max_length=512)\n",
        "\n",
        "            with torch.no_grad():\n",
        "                outputs = model(**inputs)\n",
        "\n",
        "            # Находим начало и конец ответа\n",
        "            answer_start = torch.argmax(outputs.start_logits)\n",
        "            answer_end = torch.argmax(outputs.end_logits) + 1\n",
        "            answer_ids = inputs[\"input_ids\"][0][answer_start:answer_end]\n",
        "            answer = tokenizer.decode(answer_ids, skip_special_tokens=True)\n",
        "            elapsed_time = time.time() - start_time\n",
        "\n",
        "            results.append({\n",
        "                'question': question,\n",
        "                'context': context,\n",
        "                'reference': reference,\n",
        "                'answer': answer,\n",
        "                'elapsed_time': elapsed_time\n",
        "            })\n",
        "        return results\n",
        "    except Exception as e:\n",
        "        print(f\"❌ Ошибка: {e}\")\n",
        "        return []"
      ]
    },
    {
      "cell_type": "code",
      "execution_count": 52,
      "metadata": {
        "id": "z2wVX8btqKHi"
      },
      "outputs": [],
      "source": [
        "def evaluate_metrics(results):\n",
        "    \"\"\"Оценивает все метрики по списку результатов.\"\"\"\n",
        "    metrics = []\n",
        "    for result in results:\n",
        "        prediction = result['answer']\n",
        "        reference = result['reference']\n",
        "        elapsed_time = result['elapsed_time']\n",
        "        metric = {\n",
        "            \"exact_match\": compute_exact_match(prediction, reference),\n",
        "            \"f1\": compute_f1(prediction, reference),\n",
        "            \"bleu\": compute_bleu(prediction, reference),\n",
        "            \"generation_time\": elapsed_time,\n",
        "            \"length\": len(prediction.split())\n",
        "        }\n",
        "        metrics.append(metric)\n",
        "    return metrics\n",
        "\n",
        "def print_average_metrics(metrics, title=\"\"):\n",
        "    \"\"\"Выводит средние значения метрик.\"\"\"\n",
        "    if not metrics:\n",
        "        print(f\"{title} ❌ Нет данных.\")\n",
        "        return None\n",
        "    avg = {\n",
        "        \"exact_match\": np.mean([m['exact_match'] for m in metrics]),\n",
        "        \"f1\": np.mean([m['f1'] for m in metrics]),\n",
        "        \"bleu\": np.mean([m['bleu'] for m in metrics]),\n",
        "        \"generation_time\": np.mean([m['generation_time'] for m in metrics]),\n",
        "        \"length\": np.mean([m['length'] for m in metrics])\n",
        "    }\n",
        "    print(f\"{title} Средние метрики:\")\n",
        "    print(f\"  EM: {avg['exact_match']:.4f}\")\n",
        "    print(f\"  F1: {avg['f1']:.4f}\")\n",
        "    print(f\"  BLEU: {avg['bleu']:.4f}\")\n",
        "    print(f\"  Время: {avg['generation_time']:.2f} с\")\n",
        "    print(f\"  Длина: {avg['length']:.2f} слов\\n\")\n",
        "    return avg"
      ]
    },
    {
      "cell_type": "code",
      "execution_count": 53,
      "metadata": {
        "id": "5WFOIe3kqKNU"
      },
      "outputs": [],
      "source": [
        "def experiment_temperature(model_name, model_type, test_data):\n",
        "    \"\"\"Эксперимент: влияние температуры на качество генерации.\"\"\"\n",
        "    temperatures = [0.1, 0.5, 1.0, 1.5, 2.0]\n",
        "    results = {}\n",
        "    for temp in temperatures:\n",
        "        print(f\"🌡️ Тестирование температуры {temp}...\")\n",
        "        if model_type == \"T5\":\n",
        "            res = test_t5_model_with_params(model_name, test_data, temperature=temp)\n",
        "        elif model_type == \"GPT2\":\n",
        "            res = test_gpt2_model_with_params(model_name, test_data, temperature=temp)\n",
        "        else:\n",
        "            res = []\n",
        "        metrics = evaluate_metrics(res)\n",
        "        results[f\"T={temp}\"] = print_average_metrics(metrics, f\"T={temp}: \")\n",
        "    return results\n",
        "\n",
        "def experiment_ab_testing(model_name, model_type, test_data):\n",
        "    \"\"\"A/B тестирование форматов промптов.\"\"\"\n",
        "    formats = [\n",
        "        (\"Формат 1\", \"question: {question} context: {context}\"),\n",
        "        (\"Формат 2\", \"context: {context} question: {question}\"),\n",
        "        (\"Формат 3\", \"{context} Вопрос: {question} Ответ:\")\n",
        "    ]\n",
        "    ab_results = {}\n",
        "    for name, fmt in formats:\n",
        "        print(f\"🧪 Тестирование: {name}\")\n",
        "        if model_type == \"T5\":\n",
        "            res = test_t5_model_with_params(model_name, test_data, prompt_format=fmt)\n",
        "        elif model_type == \"GPT2\":\n",
        "            res = test_gpt2_model_with_params(model_name, test_data, prompt_format=fmt)\n",
        "        metrics = evaluate_metrics(res)\n",
        "        ab_results[name] = print_average_metrics(metrics, f\"{name}: \")\n",
        "    return ab_results\n",
        "\n",
        "def experiment_prompt_length(model_name, model_type, test_data):\n",
        "    \"\"\"Влияние длины контекста.\"\"\"\n",
        "    lengths = [\n",
        "        (\"Короткий\", lambda s: f\"{s['context'][:100]} Вопрос: {s['question']} Ответ:\"),\n",
        "        (\"Средний\", lambda s: f\"{s['context'][:300]} Вопрос: {s['question']} Ответ:\"),\n",
        "        (\"Длинный\", lambda s: f\"{s['context']} Вопрос: {s['question']} Ответ:\")\n",
        "    ]\n",
        "    results = {}\n",
        "    for name, func in lengths:\n",
        "        print(f\"📏 Тестирование: {name} контекст\")\n",
        "        if model_type == \"T5\":\n",
        "            res = test_t5_model_with_params(model_name, test_data, prompt_format=func)\n",
        "        elif model_type == \"GPT2\":\n",
        "            res = test_gpt2_model_with_params(model_name, test_data, prompt_format=func)\n",
        "        metrics = evaluate_metrics(res)\n",
        "        results[name] = print_average_metrics(metrics, f\"{name}: \")\n",
        "    return results\n",
        "\n",
        "def experiment_zero_few_shot(model_name, model_type, test_data):\n",
        "    \"\"\"Сравнение zero-shot и few-shot.\"\"\"\n",
        "    zero_shot = lambda s: f\"{s['context']} Вопрос: {s['question']} Ответ:\"\n",
        "    few_shot = lambda s: (\n",
        "        \"Контекст: Компания X запустила продукт.\\n\"\n",
        "        \"Вопрос: Что запустила компания X?\\n\"\n",
        "        \"Ответ: Продукт.\\n\\n\"\n",
        "        f\"Контекст: {s['context']}\\n\"\n",
        "        f\"Вопрос: {s['question']}\\n\"\n",
        "        \"Ответ:\"\n",
        "    )\n",
        "    results = {}\n",
        "\n",
        "    print(\"🧪 Zero-shot промптинг...\")\n",
        "    if model_type == \"T5\":\n",
        "        res = test_t5_model_with_params(model_name, test_data, prompt_format=zero_shot)\n",
        "    else:\n",
        "        res = test_gpt2_model_with_params(model_name, test_data, prompt_format=zero_shot)\n",
        "    metrics = evaluate_metrics(res)\n",
        "    results[\"zero_shot\"] = print_average_metrics(metrics, \"Zero-shot: \")\n",
        "\n",
        "    print(\"🧪 Few-shot промптинг...\")\n",
        "    if model_type == \"T5\":\n",
        "        res = test_t5_model_with_params(model_name, test_data, prompt_format=few_shot)\n",
        "    else:\n",
        "        res = test_gpt2_model_with_params(model_name, test_data, prompt_format=few_shot)\n",
        "    metrics = evaluate_metrics(res)\n",
        "    results[\"few_shot\"] = print_average_metrics(metrics, \"Few-shot: \")\n",
        "\n",
        "    return results\n",
        "\n",
        "def analyze_errors(results):\n",
        "    \"\"\"Собирает примеры ошибок.\"\"\"\n",
        "    return [\n",
        "        {\n",
        "            \"question\": r['question'],\n",
        "            \"reference\": r['reference'],\n",
        "            \"prediction\": r['answer']\n",
        "        }\n",
        "        for r in results if r['answer'].strip() != r['reference'].strip()\n",
        "    ]"
      ]
    },
    {
      "cell_type": "code",
      "execution_count": 54,
      "metadata": {
        "id": "B5btGxkao6AI"
      },
      "outputs": [],
      "source": [
        "def visualize_all_temperature_results(all_results):\n",
        "    \"\"\"График зависимости метрик от температуры.\"\"\"\n",
        "    metrics = ['exact_match', 'f1', 'bleu', 'generation_time', 'length']\n",
        "\n",
        "    for metric in metrics:\n",
        "        plt.figure(figsize=(10, 5))\n",
        "\n",
        "        for model, results in all_results.items():\n",
        "            # Для QA-модели (Den4ikAI/rubert_large_squad_2) — отображаем как константу\n",
        "            if model == \"Den4ikAI/rubert_large_squad_2\":\n",
        "                value = results.get(\"default\", {}).get(metric, 0)\n",
        "                plt.plot([0.1, 2.0], [value]*2, 'o--', label=f\"{model} (QA)\")\n",
        "                continue\n",
        "\n",
        "            # Для других моделей извлекаем только ключи вида \"T=0.1\", \"T=0.5\" и т.д.\n",
        "            temp_points = []\n",
        "            for key, res in results.items():\n",
        "                if key.startswith(\"T=\"):\n",
        "                    try:\n",
        "                        temp = float(key.split(\"=\", 1)[1])  # Берём часть после \"T=\"\n",
        "                        value = res.get(metric, 0)\n",
        "                        temp_points.append((temp, value))\n",
        "                    except (ValueError, IndexError):\n",
        "                        continue  # Пропускаем некорректные ключи\n",
        "\n",
        "            # Сортируем по температуре и строим график\n",
        "            if temp_points:\n",
        "                temp_points.sort(key=lambda x: x[0])  # Сортировка по температуре\n",
        "                temps, values = zip(*temp_points)\n",
        "                plt.plot(temps, values, 'o-', label=model)\n",
        "\n",
        "        # Оформление графика\n",
        "        plt.title(f'{metric.upper()} vs Температура')\n",
        "        plt.xlabel('Температура')\n",
        "        plt.ylabel(metric)\n",
        "        plt.legend()\n",
        "        plt.grid(True, alpha=0.3)\n",
        "        plt.tight_layout()\n",
        "        plt.show()"
      ]
    },
    {
      "cell_type": "code",
      "execution_count": 57,
      "metadata": {
        "colab": {
          "base_uri": "https://localhost:8080/",
          "height": 1000
        },
        "id": "6ioPimtYrQxO",
        "outputId": "7d7c022c-f6a7-42ca-b318-bdf17d71ac37"
      },
      "outputs": [
        {
          "name": "stdout",
          "output_type": "stream",
          "text": [
            "🚀 Тестирование T5\n",
            "🌡️ Тестирование температуры 0.1...\n",
            "T=0.1:  Средние метрики:\n",
            "  EM: 0.3800\n",
            "  F1: 0.7355\n",
            "  BLEU: 0.3892\n",
            "  Время: 1.68 с\n",
            "  Длина: 4.26 слов\n",
            "\n",
            "🌡️ Тестирование температуры 0.5...\n",
            "T=0.5:  Средние метрики:\n",
            "  EM: 0.3400\n",
            "  F1: 0.7096\n",
            "  BLEU: 0.3569\n",
            "  Время: 1.81 с\n",
            "  Длина: 4.18 слов\n",
            "\n",
            "🌡️ Тестирование температуры 1.0...\n",
            "T=1.0:  Средние метрики:\n",
            "  EM: 0.4200\n",
            "  F1: 0.7380\n",
            "  BLEU: 0.3947\n",
            "  Время: 1.66 с\n",
            "  Длина: 4.22 слов\n",
            "\n",
            "🌡️ Тестирование температуры 1.5...\n",
            "T=1.5:  Средние метрики:\n",
            "  EM: 0.1800\n",
            "  F1: 0.5140\n",
            "  BLEU: 0.2026\n",
            "  Время: 1.76 с\n",
            "  Длина: 4.96 слов\n",
            "\n",
            "🌡️ Тестирование температуры 2.0...\n",
            "T=2.0:  Средние метрики:\n",
            "  EM: 0.0000\n",
            "  F1: 0.2466\n",
            "  BLEU: 0.0774\n",
            "  Время: 1.97 с\n",
            "  Длина: 6.58 слов\n",
            "\n",
            "🚀 Тестирование GPT2\n",
            "🌡️ Тестирование температуры 0.1...\n",
            "T=0.1:  Средние метрики:\n",
            "  EM: 0.0000\n",
            "  F1: 0.0770\n",
            "  BLEU: 0.0097\n",
            "  Время: 5.05 с\n",
            "  Длина: 9.76 слов\n",
            "\n",
            "🌡️ Тестирование температуры 0.5...\n",
            "T=0.5:  Средние метрики:\n",
            "  EM: 0.0000\n",
            "  F1: 0.0662\n",
            "  BLEU: 0.0076\n",
            "  Время: 5.02 с\n",
            "  Длина: 9.76 слов\n",
            "\n",
            "🌡️ Тестирование температуры 1.0...\n",
            "T=1.0:  Средние метрики:\n",
            "  EM: 0.0000\n",
            "  F1: 0.0770\n",
            "  BLEU: 0.0097\n",
            "  Время: 4.84 с\n",
            "  Длина: 9.76 слов\n",
            "\n",
            "🌡️ Тестирование температуры 1.5...\n",
            "T=1.5:  Средние метрики:\n",
            "  EM: 0.0000\n",
            "  F1: 0.0608\n",
            "  BLEU: 0.0075\n",
            "  Время: 4.99 с\n",
            "  Длина: 9.80 слов\n",
            "\n",
            "🌡️ Тестирование температуры 2.0...\n",
            "T=2.0:  Средние метрики:\n",
            "  EM: 0.0000\n",
            "  F1: 0.0258\n",
            "  BLEU: 0.0033\n",
            "  Время: 4.99 с\n",
            "  Длина: 9.84 слов\n",
            "\n",
            "🚀 Тестирование QA\n",
            "QA:  Средние метрики:\n",
            "  EM: 0.5600\n",
            "  F1: 0.7883\n",
            "  BLEU: 0.4134\n",
            "  Время: 0.48 с\n",
            "  Длина: 3.52 слов\n",
            "\n"
          ]
        },
        {
          "data": {
            "image/png": "[encoded data removed]",
            "text/plain": [
              "<Figure size 1000x500 with 1 Axes>"
            ]
          },
          "metadata": {},
          "output_type": "display_data"
        },
        {
          "data": {
            "image/png": "[encoded data removed]",
            "text/plain": [
              "<Figure size 1000x500 with 1 Axes>"
            ]
          },
          "metadata": {},
          "output_type": "display_data"
        },
        {
          "data": {
            "image/png": "[encoded data removed]",
            "text/plain": [
              "<Figure size 1000x500 with 1 Axes>"
            ]
          },
          "metadata": {},
          "output_type": "display_data"
        },
        {
          "data": {
            "image/png": "[encoded data removed]",
            "text/plain": [
              "<Figure size 1000x500 with 1 Axes>"
            ]
          },
          "metadata": {},
          "output_type": "display_data"
        },
        {
          "data": {
            "image/png": "[encoded data removed]",
            "text/plain": [
              "<Figure size 1000x500 with 1 Axes>"
            ]
          },
          "metadata": {},
          "output_type": "display_data"
        }
      ],
      "source": [
        "if test_data:\n",
        "    all_results = {}\n",
        "\n",
        "    # === T5 ===\n",
        "    print(\"🚀 Тестирование T5\")\n",
        "    t5_results = experiment_temperature(\"cointegrated/rut5-base-multitask\", \"T5\", test_data)\n",
        "    all_results[\"T5\"] = t5_results\n",
        "\n",
        "    # === GPT2 ===\n",
        "    print(\"🚀 Тестирование GPT2\")\n",
        "    gpt2_results = experiment_temperature(\"sberbank-ai/rugpt3small_based_on_gpt2\", \"GPT2\", test_data)\n",
        "    all_results[\"GPT2\"] = gpt2_results\n",
        "\n",
        "    # === QA ===\n",
        "    print(\"🚀 Тестирование QA\")\n",
        "    qa_results = test_qa_model(\"Den4ikAI/rubert_large_squad_2\", test_data)\n",
        "    qa_metrics = evaluate_metrics(qa_results)\n",
        "    qa_avg = print_average_metrics(qa_metrics, \"QA: \")\n",
        "    all_results[\"QA\"] = {\"default\": qa_avg}\n",
        "\n",
        "    # === Визуализация ===\n",
        "    visualize_all_temperature_results(all_results)\n",
        "\n"
      ]
    },
    {
      "cell_type": "code",
      "execution_count": 64,
      "metadata": {
        "colab": {
          "base_uri": "https://localhost:8080/"
        },
        "id": "aePV4R0orQ3X",
        "outputId": "fb8e0859-c63d-4155-da82-f990988e511c"
      },
      "outputs": [
        {
          "name": "stdout",
          "output_type": "stream",
          "text": [
            "Анализ типичных ошибок для всех моделей\n",
            "\n",
            "🟢ВНИМАНИЕ! Модель: T5 (cointegrated/rut5-base-multitask)\n",
            "  Вопрос: Как называется воздушное судно, выполняющее полет без пилота на борту?\n",
            "    Ответ: Беспилотное воздушное судно\n",
            "    Эталон: Беспилотное\n",
            "\n",
            "  Вопрос: Синтезом каких культур являлась богемская культура ?\n",
            "    Ответ: немецкой, чешской и еврейской культур\n",
            "    Эталон: Немецкой, чешской и еврейской культур\n",
            "\n",
            "  Вопрос: Как меняется кожа у змей?\n",
            "    Ответ: шелушением или линькой.\n",
            "    Эталон: У змей кожа меняется одномоментно.\n",
            "\n",
            "🟢ВНИМАНИЕ! Модель: GPT2 (sberbank-ai/rugpt3small_based_on_gpt2)\n",
            "  Вопрос: Как называется воздушное судно, выполняющее полет без пилота на борту?\n",
            "    Ответ: Аэрокосмический термин «беспилотный летательный аппарат»\n",
            "    Эталон: Беспилотное\n",
            "\n",
            "  Вопрос: Синтезом каких культур являлась богемская культура ?\n",
            "    Ответ: то была одна из самых древних культур в мире.\n",
            "\n",
            "Какие\n",
            "    Эталон: Немецкой, чешской и еврейской культур\n",
            "\n",
            "  Вопрос: Как меняется кожа у змей?\n",
            "    Ответ: Кожа на змеином теле меняется в зависимости от того, в каком состоянии\n",
            "    Эталон: У змей кожа меняется одномоментно.\n",
            "\n",
            "🟢ВНИМАНИЕ! Модель: QA (Den4ikAI/rubert_large_squad_2)\n",
            "  Вопрос: Синтезом каких культур являлась богемская культура ?\n",
            "    Ответ: немецкой, чешской и еврейской культур\n",
            "    Эталон: Немецкой, чешской и еврейской культур\n",
            "\n",
            "  Вопрос: Как меняется кожа у змей?\n",
            "    Ответ: одномоментно и одним слоем\n",
            "    Эталон: У змей кожа меняется одномоментно.\n",
            "\n",
            "  Вопрос: В каком году Бунин перешел к другому издателю?\n",
            "    Ответ: В 1902 году\n",
            "    Эталон: 1902\n",
            "\n"
          ]
        }
      ],
      "source": [
        "print(\"Анализ типичных ошибок для всех моделей\\n\")\n",
        "\n",
        "# Список моделей для анализа\n",
        "models_to_test = [\n",
        "    (\"cointegrated/rut5-base-multitask\", \"T5\", \"T5\"),\n",
        "    (\"sberbank-ai/rugpt3small_based_on_gpt2\", \"GPT2\", \"GPT2\"),\n",
        "    (\"Den4ikAI/rubert_large_squad_2\", \"QA\", \"QA\")\n",
        "]\n",
        "\n",
        "for model_name, model_type, display_name in models_to_test:\n",
        "    try:\n",
        "        print(f\"🟢ВНИМАНИЕ! Модель: {display_name} ({model_name})\")\n",
        "        if model_type == \"T5\":\n",
        "            examples = test_t5_model_with_params(model_name, test_data, temperature=0.5)\n",
        "        elif model_type == \"GPT2\":\n",
        "            examples = test_gpt2_model_with_params(model_name, test_data, temperature=0.5)\n",
        "        elif model_type == \"QA\":\n",
        "            examples = test_qa_model(model_name, test_data)\n",
        "        else:\n",
        "            examples = []\n",
        "\n",
        "        errors = analyze_errors(examples)\n",
        "        if errors:\n",
        "            for err in errors[:3]:\n",
        "                print(f\"  Вопрос: {err['question']}\")\n",
        "                print(f\"    Ответ: {err['prediction']}\")\n",
        "                print(f\"    Эталон: {err['reference']}\\n\")\n",
        "        else:\n",
        "            print(\"  Нет ошибок (все ответы совпали с эталоном)\\n\")\n",
        "    except Exception as e:\n",
        "        print(f\" Ошибка при тестировании модели: {e}\\n\")"
      ]
    },
    {
      "cell_type": "markdown",
      "metadata": {
        "id": "tO5g1xvVPhl9"
      },
      "source": [
        "- Зачем нужен промпт?\n",
        "Промпт (prompt) — это текстовый запрос, который вы передаёте модели, чтобы получить ответ. Он необходим, чтобы:\n",
        "\n",
        "Дать модели контекст и задачу.\n",
        "Указать, какого рода ответ вы ожидаете.\n",
        "Направить модель на нужный тип генерации.\n",
        "\n",
        "Форматы промптов в вашем коде\n",
        "В вашем коде используются три разных формата промптов для A/B тестирования. Они нужны для того, чтобы понять, как модель реагирует на разные способы подачи информации.\n",
        "- Почему разные форматы?\n",
        "\n",
        "- Порядок информации: Вопрос-контекст или контекст-вопрос.\n",
        "- Явное указание задачи: Некоторые форматы более явно указывают, что нужно сделать.\n",
        "- Естественность: Некоторые форматы более приближены к естественному языку.\n",
        "\n",
        "\n",
        "\n",
        "- Форматы промптов для A/B тестирования\n",
        "- Формат 1:\n",
        "Структура: \"question: {question} context: {context}\"\n",
        "\n",
        "Сначала указывается вопрос, затем контекст.\n",
        "\n",
        "Пример:\n",
        "question: Какой цвет неба? context: Небо обычно голубого цвета из-за рассеяния света в атмосфере.\n",
        "\n",
        "- Формат 2:\n",
        "- Структура: \"context: {context} question: {question}\"\n",
        "\n",
        "Сначала указывается контекст, затем вопрос.\n",
        "\n",
        "Пример:\n",
        "context: Небо обычно голубого цвета из-за рассеяния света в атмосфере. question: Какой цвет неба?\n",
        "\n",
        "- Формат 3:\n",
        "- Структура: \"{context} Вопрос: {question} Ответ:\"\n",
        "\n",
        "Сначала полный контекст, затем вопрос в более естественной форме и слово \"Ответ:\" для указания модели, что дальше будет ответ.\n",
        "\n",
        "Пример:\n",
        "Небо обычно голубого цвета из-за рассеяния света в атмосфере. Вопрос: Какой цвет неба? Ответ:\n",
        "\n",
        "- Зачем нужны разные форматы промптов?\n",
        "Оценка влияния порядка информации:\n",
        "Форматы 1 и 2 позволяют понять, влияет ли последовательность подачи вопроса и контекста на качество ответов.\n",
        "\n",
        "- Естественность формулировки:\n",
        "Формат 3 приближен к естественному языку и может помочь модели лучше понять задачу.\n",
        "\n",
        "- Явное указание на ожидаемый ответ:\n",
        "Формат 3 с \"Ответ:\" явно показывает, что далее следует сгенерированный ответ, что помогает модели сфокусироваться.\n",
        "\n",
        "- Такое разнообразие форматов позволяет через A/B тестирование определить оптимальный способ подачи информации для повышения качества ответов модели."
      ]
    },
    {
      "cell_type": "markdown",
      "metadata": {
        "id": "dCfOoAYiPuYk"
      },
      "source": [
        "\n",
        "Спасибо за внимание!"
      ]
    }
  ],
  "metadata": {
    "colab": {
      "provenance": []
    },
    "kernelspec": {
      "display_name": "Python 3",
      "name": "python3"
    },
    "language_info": {
      "codemirror_mode": {
        "name": "ipython",
        "version": 3
      },
      "file_extension": ".py",
      "mimetype": "text/x-python",
      "name": "python",
      "nbconvert_exporter": "python",
      "pygments_lexer": "ipython3",
      "version": "3.11.0rc2"
    }
  },
  "nbformat": 4,
  "nbformat_minor": 0
}
